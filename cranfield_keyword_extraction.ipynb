{
 "cells": [
  {
   "cell_type": "code",
   "execution_count": null,
   "id": "7c9f1a5f",
   "metadata": {},
   "outputs": [],
   "source": [
    "!pip install keybert"
   ]
  },
  {
   "cell_type": "code",
   "execution_count": null,
   "id": "6fc412b3",
   "metadata": {},
   "outputs": [],
   "source": [
    "from keybert import KeyBERT\n",
    "\n",
    "kw_model = KeyBERT()"
   ]
  },
  {
   "cell_type": "code",
   "execution_count": null,
   "id": "dfbf8b34",
   "metadata": {},
   "outputs": [],
   "source": [
    "import json\n",
    "\n",
    "cranfield_path = \"cranfield\\cran_docs.json\"\n",
    "\n",
    "with open(cranfield_path) as f:\n",
    "    data = json.load(f)\n",
    "\n",
    "corpus_bodies = [doc['body'] for doc in data]"
   ]
  },
  {
   "cell_type": "code",
   "execution_count": null,
   "id": "c5f0d699",
   "metadata": {},
   "outputs": [],
   "source": [
    "concat_body = \" \".join(corpus_bodies)"
   ]
  },
  {
   "cell_type": "code",
   "execution_count": null,
   "id": "2d9cc563",
   "metadata": {},
   "outputs": [],
   "source": [
    "import pandas as pd\n",
    "from concurrent.futures import ThreadPoolExecutor"
   ]
  },
  {
   "cell_type": "code",
   "execution_count": null,
   "id": "411cc07d",
   "metadata": {},
   "outputs": [],
   "source": [
    "def extract_keywords_for_top_n(top_n):\n",
    "    keywords = kw_model.extract_keywords(concat_body, top_n=top_n)\n",
    "    df = pd.DataFrame(keywords, columns=['Keyword', 'Score'])\n",
    "    df.to_csv(f\"topics_{top_n}.csv\", index=False)\n",
    "\n",
    "with ThreadPoolExecutor() as executor:\n",
    "    executor.map(extract_keywords_for_top_n, [5, 10, 50, 100, 500, 1000])"
   ]
  }
 ],
 "metadata": {
  "kernelspec": {
   "display_name": "Python 3 (ipykernel)",
   "language": "python",
   "name": "python3"
  },
  "language_info": {
   "codemirror_mode": {
    "name": "ipython",
    "version": 3
   },
   "file_extension": ".py",
   "mimetype": "text/x-python",
   "name": "python",
   "nbconvert_exporter": "python",
   "pygments_lexer": "ipython3",
   "version": "3.11.7"
  }
 },
 "nbformat": 4,
 "nbformat_minor": 5
}
